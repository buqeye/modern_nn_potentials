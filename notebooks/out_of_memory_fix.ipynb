{
 "cells": [
  {
   "cell_type": "code",
   "execution_count": 1,
   "id": "65d650c2",
   "metadata": {},
   "outputs": [],
   "source": [
    "from nbformat import read, write\n",
    "\n",
    "def Remove_Output(Book):\n",
    "    for cell in Book.cells:\n",
    "        if hasattr(cell, \"outputs\"):\n",
    "            cell.outputs = []\n",
    "        if hasattr(cell, \"prompt_number\"):\n",
    "            del cell[\"prompt_number\"]\n",
    "\n",
    "Book= read(open(\"paper_figures_1.ipynb\"), 4)\n",
    "Remove_Output(Book)\n",
    "write(Book, open(\"paper_figures_11.ipynb\", \"w\"), 4)"
   ]
  }
 ],
 "metadata": {
  "kernelspec": {
   "display_name": "Python 3 (ipykernel)",
   "language": "python",
   "name": "python3"
  },
  "language_info": {
   "codemirror_mode": {
    "name": "ipython",
    "version": 3
   },
   "file_extension": ".py",
   "mimetype": "text/x-python",
   "name": "python",
   "nbconvert_exporter": "python",
   "pygments_lexer": "ipython3",
   "version": "3.8.13"
  }
 },
 "nbformat": 4,
 "nbformat_minor": 5
}
