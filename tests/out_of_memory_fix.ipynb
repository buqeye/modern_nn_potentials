{
 "cells": [
  {
   "cell_type": "code",
   "execution_count": 1,
   "id": "2525d3eb",
   "metadata": {},
   "outputs": [],
   "source": [
    "from nbformat import read, write\n",
    "\n",
    "def Remove_Output(Book):\n",
    "    for cell in Book.cells:\n",
    "        if hasattr(cell, \"outputs\"):\n",
    "            cell.outputs = []\n",
    "        if hasattr(cell, \"prompt_number\"):\n",
    "            del cell[\"prompt_number\"]\n",
    "\n",
    "Book= read(open(\"unit_tests.ipynb\"), 4)\n",
    "Remove_Output(Book)\n",
    "write(Book, open(\"unit_tests1.ipynb\", \"w\"), 4)"
   ]
  }
 ],
 "metadata": {
  "kernelspec": {
   "display_name": "Python 3 (ipykernel)",
   "language": "python",
   "name": "python3"
  },
  "language_info": {
   "codemirror_mode": {
    "name": "ipython",
    "version": 3
   },
   "file_extension": ".py",
   "mimetype": "text/x-python",
   "name": "python",
   "nbconvert_exporter": "python",
   "pygments_lexer": "ipython3",
   "version": "3.8.13"
  }
 },
 "nbformat": 4,
 "nbformat_minor": 5
}
